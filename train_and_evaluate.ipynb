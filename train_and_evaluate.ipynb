{
 "cells": [
  {
   "cell_type": "code",
   "execution_count": 1,
   "metadata": {},
   "outputs": [],
   "source": [
    "import pandas as pd\n",
    "import re, string, joblib\n",
    "from sklearn.model_selection import train_test_split\n",
    "from sklearn.feature_extraction.text import TfidfVectorizer\n",
    "from sklearn.linear_model import LogisticRegression\n",
    "from sklearn.ensemble import RandomForestClassifier\n",
    "from sklearn.metrics import accuracy_score, classification_report\n"
   ]
  },
  {
   "cell_type": "code",
   "execution_count": 2,
   "metadata": {},
   "outputs": [],
   "source": [
    "fake = pd.read_csv(\"Fake.csv\")\n",
    "true = pd.read_csv(\"True.csv\")\n",
    "fake[\"class\"] = 0\n",
    "true[\"class\"] = 1\n",
    "data = pd.concat([fake, true], ignore_index=True)\n",
    "# Drop unused cols if they exist\n",
    "for c in [\"title\",\"subject\",\"date\"]:\n",
    "    if c in data.columns:\n",
    "        data.drop(columns=c, inplace=True)"
   ]
  },
  {
   "cell_type": "code",
   "execution_count": 3,
   "metadata": {},
   "outputs": [],
   "source": [
    "def clean_text(text):\n",
    "    text = text.lower()\n",
    "    text = re.sub(r'\\[.*?\\]', '', text)\n",
    "    text = re.sub(r'https?://\\S+|www\\.\\S+', '', text)\n",
    "    text = re.sub(r'<.*?>+', '', text)\n",
    "    text = re.sub(f\"[{re.escape(string.punctuation)}]\", '', text)\n",
    "    text = re.sub(r'\\n', ' ', text)\n",
    "    text = re.sub(r'\\w*\\d\\w*', '', text)\n",
    "    return text\n",
    "\n",
    "data[\"text\"] = data[\"text\"].astype(str).apply(clean_text)"
   ]
  },
  {
   "cell_type": "code",
   "execution_count": 4,
   "metadata": {},
   "outputs": [],
   "source": [
    "X = data[\"text\"]\n",
    "y = data[\"class\"]\n",
    "xtr, xte, ytr, yte = train_test_split(\n",
    "    X, y, test_size=0.25, random_state=42, stratify=y\n",
    ")\n",
    "\n",
    "tfidf_vect = TfidfVectorizer(\n",
    "    lowercase=True, stop_words=\"english\",\n",
    "    ngram_range=(1,2), min_df=5, max_df=0.8\n",
    ")\n",
    "xtr_tfidf = tfidf_vect.fit_transform(xtr)\n",
    "xte_tfidf = tfidf_vect.transform(xte)"
   ]
  },
  {
   "cell_type": "code",
   "execution_count": 5,
   "metadata": {},
   "outputs": [
    {
     "name": "stdout",
     "output_type": "stream",
     "text": [
      "=== Logistic Regression ===\n",
      "Accuracy: 0.9881\n",
      "              precision    recall  f1-score   support\n",
      "\n",
      "           0       0.99      0.98      0.99      5871\n",
      "           1       0.98      0.99      0.99      5354\n",
      "\n",
      "    accuracy                           0.99     11225\n",
      "   macro avg       0.99      0.99      0.99     11225\n",
      "weighted avg       0.99      0.99      0.99     11225\n",
      "\n"
     ]
    }
   ],
   "source": [
    "lr = LogisticRegression(max_iter=1000, random_state=42)\n",
    "lr.fit(xtr_tfidf, ytr)\n",
    "lr_pred = lr.predict(xte_tfidf)\n",
    "\n",
    "print(\"=== Logistic Regression ===\")\n",
    "print(f\"Accuracy: {accuracy_score(yte, lr_pred):.4f}\")\n",
    "print(classification_report(yte, lr_pred))"
   ]
  },
  {
   "cell_type": "code",
   "execution_count": 6,
   "metadata": {},
   "outputs": [
    {
     "name": "stdout",
     "output_type": "stream",
     "text": [
      "=== Random Forest ===\n",
      "Accuracy: 0.9922\n",
      "              precision    recall  f1-score   support\n",
      "\n",
      "           0       0.99      0.99      0.99      5871\n",
      "           1       0.99      0.99      0.99      5354\n",
      "\n",
      "    accuracy                           0.99     11225\n",
      "   macro avg       0.99      0.99      0.99     11225\n",
      "weighted avg       0.99      0.99      0.99     11225\n",
      "\n"
     ]
    }
   ],
   "source": [
    "rf = RandomForestClassifier(n_estimators=100, random_state=42)\n",
    "rf.fit(xtr_tfidf, ytr)\n",
    "rf_pred = rf.predict(xte_tfidf)\n",
    "\n",
    "print(\"=== Random Forest ===\")\n",
    "print(f\"Accuracy: {accuracy_score(yte, rf_pred):.4f}\")\n",
    "print(classification_report(yte, rf_pred))\n"
   ]
  },
  {
   "cell_type": "code",
   "execution_count": 7,
   "metadata": {},
   "outputs": [
    {
     "name": "stdout",
     "output_type": "stream",
     "text": [
      "✅ Saved LR_TFIDF_model.jb, RF_TFIDF_model.jb, tfidf_vectorizer.jb\n"
     ]
    }
   ],
   "source": [
    "joblib.dump(lr, \"LR_TFIDF_model.jb\")\n",
    "joblib.dump(rf, \"RF_TFIDF_model.jb\")\n",
    "joblib.dump(tfidf_vect, \"tfidf_vectorizer.jb\")\n",
    "\n",
    "print(\"✅ Saved LR_TFIDF_model.jb, RF_TFIDF_model.jb, tfidf_vectorizer.jb\")\n"
   ]
  }
 ],
 "metadata": {
  "kernelspec": {
   "display_name": "venv",
   "language": "python",
   "name": "python3"
  },
  "language_info": {
   "codemirror_mode": {
    "name": "ipython",
    "version": 3
   },
   "file_extension": ".py",
   "mimetype": "text/x-python",
   "name": "python",
   "nbconvert_exporter": "python",
   "pygments_lexer": "ipython3",
   "version": "3.13.5"
  }
 },
 "nbformat": 4,
 "nbformat_minor": 2
}
